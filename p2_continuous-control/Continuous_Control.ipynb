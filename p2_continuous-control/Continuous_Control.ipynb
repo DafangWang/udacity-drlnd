{
 "cells": [
  {
   "cell_type": "markdown",
   "metadata": {},
   "source": [
    "# Continuous Control\n",
    "\n",
    "---\n",
    "\n",
    "In this notebook, you will learn how to use the Unity ML-Agents environment for the second project of the [Deep Reinforcement Learning Nanodegree](https://www.udacity.com/course/deep-reinforcement-learning-nanodegree--nd893) program.\n",
    "\n",
    "### 1. Start the Environment\n",
    "\n",
    "We begin by importing the necessary packages.  If the code cell below returns an error, please revisit the project instructions to double-check that you have installed [Unity ML-Agents](https://github.com/Unity-Technologies/ml-agents/blob/master/docs/Installation.md) and [NumPy](http://www.numpy.org/)."
   ]
  },
  {
   "cell_type": "code",
   "execution_count": 1,
   "metadata": {},
   "outputs": [],
   "source": [
    "from unityagents import UnityEnvironment\n",
    "import numpy as np"
   ]
  },
  {
   "cell_type": "markdown",
   "metadata": {},
   "source": [
    "Next, we will start the environment!  **_Before running the code cell below_**, change the `file_name` parameter to match the location of the Unity environment that you downloaded.\n",
    "\n",
    "- **Mac**: `\"path/to/Reacher.app\"`\n",
    "- **Windows** (x86): `\"path/to/Reacher_Windows_x86/Reacher.exe\"`\n",
    "- **Windows** (x86_64): `\"path/to/Reacher_Windows_x86_64/Reacher.exe\"`\n",
    "- **Linux** (x86): `\"path/to/Reacher_Linux/Reacher.x86\"`\n",
    "- **Linux** (x86_64): `\"path/to/Reacher_Linux/Reacher.x86_64\"`\n",
    "- **Linux** (x86, headless): `\"path/to/Reacher_Linux_NoVis/Reacher.x86\"`\n",
    "- **Linux** (x86_64, headless): `\"path/to/Reacher_Linux_NoVis/Reacher.x86_64\"`\n",
    "\n",
    "For instance, if you are using a Mac, then you downloaded `Reacher.app`.  If this file is in the same folder as the notebook, then the line below should appear as follows:\n",
    "```\n",
    "env = UnityEnvironment(file_name=\"Reacher.app\")\n",
    "```"
   ]
  },
  {
   "cell_type": "code",
   "execution_count": 2,
   "metadata": {},
   "outputs": [
    {
     "name": "stderr",
     "output_type": "stream",
     "text": [
      "INFO:unityagents:\n",
      "'Academy' started successfully!\n",
      "Unity Academy name: Academy\n",
      "        Number of Brains: 1\n",
      "        Number of External Brains : 1\n",
      "        Lesson number : 0\n",
      "        Reset Parameters :\n",
      "\t\tgoal_speed -> 1.0\n",
      "\t\tgoal_size -> 5.0\n",
      "Unity brain name: ReacherBrain\n",
      "        Number of Visual Observations (per agent): 0\n",
      "        Vector Observation space type: continuous\n",
      "        Vector Observation space size (per agent): 33\n",
      "        Number of stacked Vector Observation: 1\n",
      "        Vector Action space type: continuous\n",
      "        Vector Action space size (per agent): 4\n",
      "        Vector Action descriptions: , , , \n"
     ]
    }
   ],
   "source": [
    "env = UnityEnvironment(file_name='Reacher_Windows_x86_64/Reacher.exe')"
   ]
  },
  {
   "cell_type": "markdown",
   "metadata": {},
   "source": [
    "Environments contain **_brains_** which are responsible for deciding the actions of their associated agents. Here we check for the first brain available, and set it as the default brain we will be controlling from Python."
   ]
  },
  {
   "cell_type": "code",
   "execution_count": 3,
   "metadata": {},
   "outputs": [],
   "source": [
    "# get the default brain\n",
    "brain_name = env.brain_names[0]\n",
    "brain = env.brains[brain_name]"
   ]
  },
  {
   "cell_type": "markdown",
   "metadata": {},
   "source": [
    "### 2. Examine the State and Action Spaces\n",
    "\n",
    "In this environment, a double-jointed arm can move to target locations. A reward of `+0.1` is provided for each step that the agent's hand is in the goal location. Thus, the goal of your agent is to maintain its position at the target location for as many time steps as possible.\n",
    "\n",
    "The observation space consists of `33` variables corresponding to position, rotation, velocity, and angular velocities of the arm.  Each action is a vector with four numbers, corresponding to torque applicable to two joints.  Every entry in the action vector must be a number between `-1` and `1`.\n",
    "\n",
    "Run the code cell below to print some information about the environment."
   ]
  },
  {
   "cell_type": "code",
   "execution_count": 4,
   "metadata": {},
   "outputs": [
    {
     "name": "stdout",
     "output_type": "stream",
     "text": [
      "Number of agents: 1\n",
      "Size of each action: 4\n",
      "There are 1 agents. Each observes a state with length: 33\n",
      "The state for the first agent looks like: [ 0.00000000e+00 -4.00000000e+00  0.00000000e+00  1.00000000e+00\n",
      " -0.00000000e+00 -0.00000000e+00 -4.37113883e-08  0.00000000e+00\n",
      "  0.00000000e+00  0.00000000e+00  0.00000000e+00  0.00000000e+00\n",
      "  0.00000000e+00  0.00000000e+00 -1.00000000e+01  0.00000000e+00\n",
      "  1.00000000e+00 -0.00000000e+00 -0.00000000e+00 -4.37113883e-08\n",
      "  0.00000000e+00  0.00000000e+00  0.00000000e+00  0.00000000e+00\n",
      "  0.00000000e+00  0.00000000e+00  5.75471878e+00 -1.00000000e+00\n",
      "  5.55726671e+00  0.00000000e+00  1.00000000e+00  0.00000000e+00\n",
      " -1.68164849e-01]\n"
     ]
    }
   ],
   "source": [
    "# reset the environment\n",
    "env_info = env.reset(train_mode=True)[brain_name]\n",
    "\n",
    "# number of agents\n",
    "num_agents = len(env_info.agents)\n",
    "print('Number of agents:', num_agents)\n",
    "\n",
    "# size of each action\n",
    "action_size = brain.vector_action_space_size\n",
    "print('Size of each action:', action_size)\n",
    "\n",
    "# examine the state space \n",
    "states = env_info.vector_observations\n",
    "state_size = states.shape[1]\n",
    "print('There are {} agents. Each observes a state with length: {}'.format(states.shape[0], state_size))\n",
    "print('The state for the first agent looks like:', states[0])"
   ]
  },
  {
   "cell_type": "markdown",
   "metadata": {},
   "source": [
    "### 3. Take Random Actions in the Environment\n",
    "\n",
    "In the next code cell, you will learn how to use the Python API to control the agent and receive feedback from the environment.\n",
    "\n",
    "Once this cell is executed, you will watch the agent's performance, if it selects an action at random with each time step.  A window should pop up that allows you to observe the agent, as it moves through the environment.  \n",
    "\n",
    "Of course, as part of the project, you'll have to change the code so that the agent is able to use its experience to gradually choose better actions when interacting with the environment!"
   ]
  },
  {
   "cell_type": "code",
   "execution_count": null,
   "metadata": {},
   "outputs": [],
   "source": [
    "env_info = env.reset(train_mode=False)[brain_name]     # reset the environment    \n",
    "states = env_info.vector_observations                  # get the current state (for each agent)\n",
    "scores = np.zeros(num_agents)                          # initialize the score (for each agent)\n",
    "while True:\n",
    "    actions = np.random.randn(num_agents, action_size) # select an action (for each agent)\n",
    "    actions = np.clip(actions, -1, 1)                  # all actions between -1 and 1\n",
    "    env_info = env.step(actions)[brain_name]           # send all actions to tne environment\n",
    "    next_states = env_info.vector_observations         # get next state (for each agent)\n",
    "    rewards = env_info.rewards                         # get reward (for each agent)\n",
    "    dones = env_info.local_done                        # see if episode finished\n",
    "    scores += env_info.rewards                         # update the score (for each agent)\n",
    "    states = next_states                               # roll over states to next time step\n",
    "    if np.any(dones):                                  # exit loop if episode finished\n",
    "        break\n",
    "print('Total score (averaged over agents) this episode: {}'.format(np.mean(scores)))"
   ]
  },
  {
   "cell_type": "markdown",
   "metadata": {},
   "source": [
    "When finished, you can close the environment."
   ]
  },
  {
   "cell_type": "markdown",
   "metadata": {},
   "source": [
    "### 4. It's Your Turn!\n",
    "\n",
    "Now it's your turn to train your own agent to solve the environment!  When training the environment, set `train_mode=True`, so that the line for resetting the environment looks like the following:\n",
    "```python\n",
    "env_info = env.reset(train_mode=True)[brain_name]\n",
    "```"
   ]
  },
  {
   "cell_type": "code",
   "execution_count": 12,
   "metadata": {},
   "outputs": [],
   "source": [
    "import sys\n",
    "sys.path.append(\"code\")\n",
    "\n",
    "from collections import deque\n",
    "from unityagents import UnityEnvironment\n",
    "import numpy as np\n",
    "import random as random\n",
    "import torch\n",
    "from DDPGAgent import DDPGAgent\n",
    "\n",
    "import matplotlib.pyplot as plt"
   ]
  },
  {
   "cell_type": "code",
   "execution_count": 13,
   "metadata": {},
   "outputs": [
    {
     "name": "stdout",
     "output_type": "stream",
     "text": [
      "The autoreload extension is already loaded. To reload it, use:\n",
      "  %reload_ext autoreload\n"
     ]
    }
   ],
   "source": [
    "%load_ext autoreload\n",
    "%autoreload 2\n",
    "\n",
    "%matplotlib inline"
   ]
  },
  {
   "cell_type": "code",
   "execution_count": 14,
   "metadata": {},
   "outputs": [],
   "source": [
    "SEED = 0\n",
    "\n",
    "random.seed(SEED)\n",
    "np.random.seed(SEED)\n",
    "torch.manual_seed(SEED);"
   ]
  },
  {
   "cell_type": "code",
   "execution_count": 15,
   "metadata": {},
   "outputs": [],
   "source": [
    "agents = [DDPGAgent(state_size, action_size, random_seed=SEED)]\n",
    "scores_episode = []"
   ]
  },
  {
   "cell_type": "code",
   "execution_count": 63,
   "metadata": {},
   "outputs": [],
   "source": [
    "def ddpg(n_episodes=300, max_t=1000):\n",
    "    scores_window = deque(maxlen=100)\n",
    "    scores = np.zeros(num_agents)\n",
    "        \n",
    "    for i_episode in range(1, n_episodes+1):\n",
    "        env_info = env.reset(train_mode=True)[brain_name]\n",
    "        states = env_info.vector_observations\n",
    "        \n",
    "        for agent in agents:\n",
    "            agent.reset()\n",
    "            \n",
    "        scores = np.zeros(num_agents)\n",
    "            \n",
    "        for t in range(max_t):\n",
    "            actions = [agents[i].act(states[i]) for i in range(num_agents)]\n",
    "            env_info = env.step(actions)[brain_name]\n",
    "            next_states = env_info.vector_observations\n",
    "            rewards = env_info.rewards\n",
    "            dones = env_info.local_done\n",
    "            \n",
    "            for i in range(num_agents):\n",
    "                agents[i].step(t,states[i], actions[i], rewards[i], next_states[i], dones[i]) \n",
    " \n",
    "            states = next_states\n",
    "            scores += rewards\n",
    "            if t % 20:\n",
    "                print('\\rTimestep {}\\tScore: {:.2f}\\tmin: {:.2f}\\tmax: {:.2f}'\n",
    "                      .format(t, np.mean(scores), np.min(scores), np.max(scores)), end=\"\") \n",
    "            if np.any(dones):\n",
    "                break \n",
    "        score = np.mean(scores)\n",
    "        scores_window.append(score)\n",
    "        scores_episode.append(score)\n",
    "        \n",
    "        torch.save(agents[0].actor_local.state_dict(), 'checkpoint_actor.pth')\n",
    "        torch.save(agents[0].critic_local.state_dict(), 'checkpoint_critic.pth')\n",
    "        \n",
    "        print('\\rEpisode {}\\tScore: {:.2f}\\tAverage Score: {:.2f}\\t\\t\\t'.format(i_episode, score, np.mean(scores_window)), end=\"\\n\")\n",
    "        if i_episode % 100 == 0:\n",
    "            print('\\rEpisode {}\\tAverage Score: {:.2f}'.format(i_episode, np.mean(scores_window)))\n",
    "        if np.mean(scores_window) >= 30.0 and len(scores_window) >= 100:\n",
    "            print('\\nEnvironment solved!')\n",
    "            break\n",
    "            \n",
    "    return scores_episode"
   ]
  },
  {
   "cell_type": "code",
   "execution_count": 142,
   "metadata": {
    "scrolled": false
   },
   "outputs": [
    {
     "name": "stdout",
     "output_type": "stream",
     "text": [
      "Episode 1\tScore: 14.39\tAverage Score: 14.39\t\t\t9\n",
      "Episode 2\tScore: 17.25\tAverage Score: 15.82\t\t\t5\n",
      "Episode 3\tScore: 14.49\tAverage Score: 15.38\t\t\t9\n",
      "Episode 4\tScore: 11.74\tAverage Score: 14.47\t\t\t4\n",
      "Episode 5\tScore: 13.72\tAverage Score: 14.32\t\t\t2\n",
      "Episode 6\tScore: 15.78\tAverage Score: 14.56\t\t\t8\n",
      "Episode 7\tScore: 13.47\tAverage Score: 14.41\t\t\t7\n",
      "Episode 8\tScore: 13.79\tAverage Score: 14.33\t\t\t9\n",
      "Episode 9\tScore: 13.43\tAverage Score: 14.23\t\t\t3\n",
      "Episode 10\tScore: 13.53\tAverage Score: 14.16\t\t\t\n",
      "Episode 11\tScore: 11.23\tAverage Score: 13.89\t\t\t\n",
      "Episode 12\tScore: 18.22\tAverage Score: 14.25\t\t\t\n",
      "Episode 13\tScore: 14.24\tAverage Score: 14.25\t\t\t\n",
      "Episode 14\tScore: 7.38\tAverage Score: 13.76\t\t\t\n",
      "Episode 15\tScore: 13.15\tAverage Score: 13.72\t\t\t\n",
      "Episode 16\tScore: 9.00\tAverage Score: 13.43\t\t\t\n",
      "Episode 17\tScore: 9.95\tAverage Score: 13.22\t\t\t\n",
      "Episode 18\tScore: 13.41\tAverage Score: 13.23\t\t\t\n",
      "Episode 19\tScore: 14.24\tAverage Score: 13.28\t\t\t\n",
      "Episode 20\tScore: 3.84\tAverage Score: 12.81\t\t\t\n",
      "Episode 21\tScore: 16.64\tAverage Score: 12.99\t\t\t\n",
      "Episode 22\tScore: 24.64\tAverage Score: 13.52\t\t\t\n",
      "Episode 23\tScore: 15.34\tAverage Score: 13.60\t\t\t\n",
      "Episode 24\tScore: 11.55\tAverage Score: 13.52\t\t\t\n",
      "Episode 25\tScore: 15.90\tAverage Score: 13.61\t\t\t\n",
      "Episode 26\tScore: 10.06\tAverage Score: 13.48\t\t\t\n",
      "Episode 27\tScore: 11.82\tAverage Score: 13.41\t\t\t\n",
      "Episode 28\tScore: 28.27\tAverage Score: 13.95\t\t\t\n",
      "Episode 29\tScore: 15.03\tAverage Score: 13.98\t\t\t\n",
      "Episode 30\tScore: 14.32\tAverage Score: 13.99\t\t\t\n",
      "Episode 31\tScore: 14.82\tAverage Score: 14.02\t\t\t\n",
      "Episode 32\tScore: 12.47\tAverage Score: 13.97\t\t\t\n",
      "Episode 33\tScore: 16.80\tAverage Score: 14.06\t\t\t\n",
      "Episode 34\tScore: 15.56\tAverage Score: 14.10\t\t\t\n",
      "Episode 35\tScore: 16.75\tAverage Score: 14.18\t\t\t\n",
      "Episode 36\tScore: 19.16\tAverage Score: 14.32\t\t\t\n",
      "Episode 37\tScore: 18.03\tAverage Score: 14.42\t\t\t\n",
      "Episode 38\tScore: 20.13\tAverage Score: 14.57\t\t\t\n",
      "Episode 39\tScore: 14.99\tAverage Score: 14.58\t\t\t\n",
      "Episode 40\tScore: 9.46\tAverage Score: 14.45\t\t\t\n",
      "Episode 41\tScore: 13.93\tAverage Score: 14.44\t\t\t\n",
      "Episode 42\tScore: 20.60\tAverage Score: 14.58\t\t\t\n",
      "Episode 43\tScore: 14.92\tAverage Score: 14.59\t\t\t\n",
      "Episode 44\tScore: 16.98\tAverage Score: 14.65\t\t\t\n",
      "Episode 45\tScore: 16.27\tAverage Score: 14.68\t\t\t\n",
      "Episode 46\tScore: 15.58\tAverage Score: 14.70\t\t\t\n",
      "Episode 47\tScore: 19.36\tAverage Score: 14.80\t\t\t\n",
      "Episode 48\tScore: 18.44\tAverage Score: 14.88\t\t\t\n",
      "Episode 49\tScore: 13.82\tAverage Score: 14.85\t\t\t\n",
      "Episode 50\tScore: 13.03\tAverage Score: 14.82\t\t\t\n",
      "Episode 51\tScore: 16.73\tAverage Score: 14.86\t\t\t\n",
      "Episode 52\tScore: 19.07\tAverage Score: 14.94\t\t\t\n",
      "Episode 53\tScore: 14.05\tAverage Score: 14.92\t\t\t\n",
      "Episode 54\tScore: 12.51\tAverage Score: 14.88\t\t\t\n",
      "Episode 55\tScore: 16.57\tAverage Score: 14.91\t\t\t\n",
      "Episode 56\tScore: 14.67\tAverage Score: 14.90\t\t\t\n",
      "Episode 57\tScore: 0.46\tAverage Score: 14.65\t\t\t\n",
      "Episode 58\tScore: 9.05\tAverage Score: 14.55\t\t\t\n",
      "Episode 59\tScore: 17.72\tAverage Score: 14.61\t\t\t\n",
      "Episode 60\tScore: 14.97\tAverage Score: 14.61\t\t\t\n",
      "Episode 61\tScore: 19.21\tAverage Score: 14.69\t\t\t\n",
      "Episode 62\tScore: 14.44\tAverage Score: 14.68\t\t\t\n",
      "Episode 63\tScore: 19.45\tAverage Score: 14.76\t\t\t\n",
      "Episode 64\tScore: 11.54\tAverage Score: 14.71\t\t\t\n",
      "Episode 65\tScore: 15.67\tAverage Score: 14.72\t\t\t\n",
      "Episode 66\tScore: 14.96\tAverage Score: 14.73\t\t\t\n",
      "Episode 67\tScore: 11.43\tAverage Score: 14.68\t\t\t\n",
      "Episode 68\tScore: 18.49\tAverage Score: 14.73\t\t\t\n",
      "Episode 69\tScore: 16.36\tAverage Score: 14.76\t\t\t\n",
      "Episode 70\tScore: 8.03\tAverage Score: 14.66\t\t\t\n",
      "Episode 71\tScore: 14.87\tAverage Score: 14.66\t\t\t\n",
      "Episode 72\tScore: 14.84\tAverage Score: 14.67\t\t\t\n",
      "Episode 73\tScore: 16.04\tAverage Score: 14.69\t\t\t\n",
      "Episode 74\tScore: 17.04\tAverage Score: 14.72\t\t\t\n",
      "Episode 75\tScore: 14.61\tAverage Score: 14.72\t\t\t\n",
      "Episode 76\tScore: 20.27\tAverage Score: 14.79\t\t\t\n",
      "Episode 77\tScore: 14.67\tAverage Score: 14.79\t\t\t\n",
      "Episode 78\tScore: 14.78\tAverage Score: 14.79\t\t\t\n",
      "Episode 79\tScore: 22.80\tAverage Score: 14.89\t\t\t\n",
      "Episode 80\tScore: 16.42\tAverage Score: 14.91\t\t\t\n",
      "Episode 81\tScore: 11.84\tAverage Score: 14.87\t\t\t\n",
      "Episode 82\tScore: 15.27\tAverage Score: 14.87\t\t\t\n",
      "Episode 83\tScore: 15.05\tAverage Score: 14.88\t\t\t\n",
      "Episode 84\tScore: 16.96\tAverage Score: 14.90\t\t\t\n",
      "Episode 85\tScore: 18.47\tAverage Score: 14.94\t\t\t\n",
      "Episode 86\tScore: 17.61\tAverage Score: 14.97\t\t\t\n",
      "Episode 87\tScore: 17.01\tAverage Score: 15.00\t\t\t\n",
      "Episode 88\tScore: 10.66\tAverage Score: 14.95\t\t\t\n",
      "Episode 89\tScore: 14.15\tAverage Score: 14.94\t\t\t\n",
      "Episode 90\tScore: 15.75\tAverage Score: 14.95\t\t\t\n",
      "Episode 91\tScore: 14.18\tAverage Score: 14.94\t\t\t\n",
      "Episode 92\tScore: 14.66\tAverage Score: 14.94\t\t\t\n",
      "Episode 93\tScore: 12.74\tAverage Score: 14.91\t\t\t\n",
      "Episode 94\tScore: 19.71\tAverage Score: 14.96\t\t\t\n",
      "Episode 95\tScore: 14.81\tAverage Score: 14.96\t\t\t\n",
      "Episode 96\tScore: 11.59\tAverage Score: 14.93\t\t\t\n",
      "Episode 97\tScore: 25.57\tAverage Score: 15.04\t\t\t\n",
      "Episode 98\tScore: 15.75\tAverage Score: 15.05\t\t\t\n",
      "Episode 99\tScore: 18.96\tAverage Score: 15.08\t\t\t\n",
      "Episode 100\tScore: 9.68\tAverage Score: 15.03\t\t\t\n",
      "Episode 100\tAverage Score: 15.03\n",
      "Episode 101\tScore: 13.09\tAverage Score: 15.02\t\t\t\n",
      "Episode 102\tScore: 14.89\tAverage Score: 14.99\t\t\t\n",
      "Episode 103\tScore: 12.15\tAverage Score: 14.97\t\t\t\n",
      "Episode 104\tScore: 17.69\tAverage Score: 15.03\t\t\t\n",
      "Episode 105\tScore: 17.52\tAverage Score: 15.07\t\t\t\n",
      "Episode 106\tScore: 13.34\tAverage Score: 15.04\t\t\t\n",
      "Episode 107\tScore: 17.21\tAverage Score: 15.08\t\t\t\n",
      "Episode 108\tScore: 13.29\tAverage Score: 15.08\t\t\t\n",
      "Episode 109\tScore: 10.33\tAverage Score: 15.05\t\t\t\n",
      "Episode 110\tScore: 13.70\tAverage Score: 15.05\t\t\t\n",
      "Episode 111\tScore: 14.23\tAverage Score: 15.08\t\t\t\n",
      "Episode 112\tScore: 15.12\tAverage Score: 15.05\t\t\t\n",
      "Episode 113\tScore: 11.76\tAverage Score: 15.02\t\t\t\n",
      "Episode 114\tScore: 19.52\tAverage Score: 15.14\t\t\t\n",
      "Episode 115\tScore: 13.36\tAverage Score: 15.14\t\t\t\n",
      "Episode 116\tScore: 15.79\tAverage Score: 15.21\t\t\t\n",
      "Episode 117\tScore: 13.14\tAverage Score: 15.24\t\t\t\n",
      "Episode 118\tScore: 18.42\tAverage Score: 15.29\t\t\t\n",
      "Episode 119\tScore: 21.17\tAverage Score: 15.36\t\t\t\n",
      "Episode 120\tScore: 19.57\tAverage Score: 15.52\t\t\t\n",
      "Episode 121\tScore: 19.41\tAverage Score: 15.55\t\t\t\n",
      "Episode 122\tScore: 26.06\tAverage Score: 15.56\t\t\t\n",
      "Episode 123\tScore: 14.39\tAverage Score: 15.55\t\t\t\n",
      "Episode 124\tScore: 18.36\tAverage Score: 15.62\t\t\t\n",
      "Episode 125\tScore: 18.96\tAverage Score: 15.65\t\t\t\n",
      "Episode 126\tScore: 20.15\tAverage Score: 15.75\t\t\t\n",
      "Episode 127\tScore: 15.57\tAverage Score: 15.79\t\t\t\n",
      "Episode 128\tScore: 21.94\tAverage Score: 15.73\t\t\t\n",
      "Episode 129\tScore: 12.34\tAverage Score: 15.70\t\t\t\n",
      "Episode 130\tScore: 15.35\tAverage Score: 15.71\t\t\t\n",
      "Episode 131\tScore: 13.85\tAverage Score: 15.70\t\t\t\n",
      "Episode 132\tScore: 10.66\tAverage Score: 15.68\t\t\t\n",
      "Episode 133\tScore: 8.31\tAverage Score: 15.60\t\t\t\n",
      "Episode 134\tScore: 9.72\tAverage Score: 15.54\t\t\t\n",
      "Episode 135\tScore: 9.57\tAverage Score: 15.47\t\t\t\n",
      "Episode 136\tScore: 14.77\tAverage Score: 15.42\t\t\t\n",
      "Episode 137\tScore: 9.14\tAverage Score: 15.33\t\t\t\n",
      "Episode 138\tScore: 17.14\tAverage Score: 15.30\t\t\t\n",
      "Episode 139\tScore: 18.13\tAverage Score: 15.34\t\t\t\n",
      "Episode 140\tScore: 15.35\tAverage Score: 15.40\t\t\t\n",
      "Episode 141\tScore: 18.53\tAverage Score: 15.44\t\t\t\n",
      "Episode 142\tScore: 9.97\tAverage Score: 15.33\t\t\t\n",
      "Episode 143\tScore: 18.93\tAverage Score: 15.38\t\t\t\n",
      "Episode 144\tScore: 12.97\tAverage Score: 15.33\t\t\t\n",
      "Episode 145\tScore: 14.38\tAverage Score: 15.32\t\t\t\n",
      "Episode 146\tScore: 19.11\tAverage Score: 15.35\t\t\t\n",
      "Episode 147\tScore: 13.68\tAverage Score: 15.29\t\t\t\n",
      "Episode 148\tScore: 15.36\tAverage Score: 15.26\t\t\t\n",
      "Episode 149\tScore: 17.18\tAverage Score: 15.30\t\t\t\n",
      "Episode 150\tScore: 9.24\tAverage Score: 15.26\t\t\t\n",
      "Episode 151\tScore: 17.44\tAverage Score: 15.27\t\t\t\n",
      "Episode 152\tScore: 13.82\tAverage Score: 15.21\t\t\t\n",
      "Episode 153\tScore: 11.00\tAverage Score: 15.18\t\t\t\n",
      "Episode 154\tScore: 18.96\tAverage Score: 15.25\t\t\t\n",
      "Episode 155\tScore: 14.87\tAverage Score: 15.23\t\t\t\n",
      "Episode 156\tScore: 17.11\tAverage Score: 15.26\t\t\t\n",
      "Episode 157\tScore: 16.01\tAverage Score: 15.41\t\t\t\n",
      "Episode 158\tScore: 16.06\tAverage Score: 15.48\t\t\t\n",
      "Episode 159\tScore: 15.13\tAverage Score: 15.46\t\t\t\n",
      "Episode 160\tScore: 16.02\tAverage Score: 15.47\t\t\t\n",
      "Episode 161\tScore: 18.77\tAverage Score: 15.46\t\t\t\n",
      "Episode 162\tScore: 16.46\tAverage Score: 15.48\t\t\t\n",
      "Episode 163\tScore: 10.48\tAverage Score: 15.39\t\t\t\n",
      "Episode 164\tScore: 11.28\tAverage Score: 15.39\t\t\t\n",
      "Episode 165\tScore: 12.04\tAverage Score: 15.35\t\t\t\n",
      "Episode 166\tScore: 14.35\tAverage Score: 15.35\t\t\t\n",
      "Episode 167\tScore: 14.93\tAverage Score: 15.38\t\t\t\n",
      "Episode 168\tScore: 14.29\tAverage Score: 15.34\t\t\t\n"
     ]
    },
    {
     "name": "stdout",
     "output_type": "stream",
     "text": [
      "Episode 169\tScore: 25.61\tAverage Score: 15.43\t\t\t\n",
      "Episode 170\tScore: 17.61\tAverage Score: 15.53\t\t\t\n",
      "Episode 171\tScore: 16.35\tAverage Score: 15.54\t\t\t\n",
      "Episode 172\tScore: 17.12\tAverage Score: 15.57\t\t\t\n",
      "Episode 173\tScore: 12.97\tAverage Score: 15.53\t\t\t\n",
      "Episode 174\tScore: 13.43\tAverage Score: 15.50\t\t\t\n",
      "Episode 175\tScore: 11.49\tAverage Score: 15.47\t\t\t\n",
      "Episode 176\tScore: 12.72\tAverage Score: 15.39\t\t\t\n",
      "Episode 177\tScore: 12.78\tAverage Score: 15.37\t\t\t\n",
      "Episode 178\tScore: 11.82\tAverage Score: 15.34\t\t\t\n",
      "Episode 179\tScore: 12.27\tAverage Score: 15.24\t\t\t\n",
      "Episode 180\tScore: 15.06\tAverage Score: 15.22\t\t\t\n",
      "Episode 181\tScore: 10.88\tAverage Score: 15.22\t\t\t\n",
      "Episode 182\tScore: 12.69\tAverage Score: 15.19\t\t\t\n",
      "Episode 183\tScore: 13.87\tAverage Score: 15.18\t\t\t\n",
      "Episode 184\tScore: 11.18\tAverage Score: 15.12\t\t\t\n",
      "Episode 185\tScore: 11.77\tAverage Score: 15.05\t\t\t\n",
      "Episode 186\tScore: 15.56\tAverage Score: 15.03\t\t\t\n",
      "Episode 187\tScore: 15.48\tAverage Score: 15.02\t\t\t\n",
      "Episode 188\tScore: 25.43\tAverage Score: 15.16\t\t\t\n",
      "Episode 189\tScore: 15.28\tAverage Score: 15.18\t\t\t\n",
      "Episode 190\tScore: 8.47\tAverage Score: 15.10\t\t\t\n",
      "Episode 191\tScore: 11.87\tAverage Score: 15.08\t\t\t\n",
      "Episode 192\tScore: 13.45\tAverage Score: 15.07\t\t\t\n",
      "Episode 193\tScore: 13.12\tAverage Score: 15.07\t\t\t\n",
      "Episode 194\tScore: 16.68\tAverage Score: 15.04\t\t\t\n",
      "Episode 195\tScore: 13.59\tAverage Score: 15.03\t\t\t\n",
      "Episode 196\tScore: 16.82\tAverage Score: 15.08\t\t\t\n",
      "Episode 197\tScore: 14.67\tAverage Score: 14.97\t\t\t\n",
      "Episode 198\tScore: 19.61\tAverage Score: 15.01\t\t\t\n",
      "Episode 199\tScore: 14.27\tAverage Score: 14.96\t\t\t\n",
      "Episode 200\tScore: 13.17\tAverage Score: 15.00\t\t\t\n",
      "Episode 200\tAverage Score: 15.00\n"
     ]
    }
   ],
   "source": [
    "# This cell was rerun multiple times\n",
    "_ = ddpg(200);"
   ]
  },
  {
   "cell_type": "code",
   "execution_count": 143,
   "metadata": {},
   "outputs": [
    {
     "data": {
      "image/png": "[encoded data removed]",
      "text/plain": [
       "<Figure size 1152x576 with 1 Axes>"
      ]
     },
     "metadata": {
      "needs_background": "light"
     },
     "output_type": "display_data"
    }
   ],
   "source": [
    "def moving_average(a, n=3) :\n",
    "    ret = np.cumsum(a, dtype=float)\n",
    "    ret[n:] = ret[n:] - ret[:-n]\n",
    "    return ret[n - 1:] / n\n",
    "\n",
    "ma = 100\n",
    "avg = moving_average(scores, ma)\n",
    "avg = np.concatenate((np.zeros(ma), avg))\n",
    "\n",
    "# plot the scores\n",
    "fig = plt.figure(figsize=(16, 8))\n",
    "ax = fig.add_subplot(111)\n",
    "plt.plot(np.arange(len(scores)), scores, label='Episode score')\n",
    "plt.plot(np.arange(len(avg)), avg, c='r', label='{} MA'.format(ma))\n",
    "plt.axhline(y=30, color='r', linestyle='dashed')\n",
    "\n",
    "plt.legend()\n",
    "plt.ylabel('Score')\n",
    "plt.xlabel('Episode #')\n",
    "plt.show()"
   ]
  },
  {
   "cell_type": "code",
   "execution_count": 51,
   "metadata": {},
   "outputs": [],
   "source": [
    "env.close()"
   ]
  }
 ],
 "metadata": {
  "kernelspec": {
   "display_name": "drlnd",
   "language": "python",
   "name": "drlnd"
  },
  "language_info": {
   "codemirror_mode": {
    "name": "ipython",
    "version": 3
   },
   "file_extension": ".py",
   "mimetype": "text/x-python",
   "name": "python",
   "nbconvert_exporter": "python",
   "pygments_lexer": "ipython3",
   "version": "3.6.7"
  }
 },
 "nbformat": 4,
 "nbformat_minor": 2
}
